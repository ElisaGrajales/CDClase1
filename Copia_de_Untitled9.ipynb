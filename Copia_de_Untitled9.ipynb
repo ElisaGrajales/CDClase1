{
  "nbformat": 4,
  "nbformat_minor": 0,
  "metadata": {
    "colab": {
      "name": "Copia de Untitled9.ipynb",
      "provenance": [],
      "include_colab_link": true
    },
    "kernelspec": {
      "name": "python3",
      "display_name": "Python 3"
    }
  },
  "cells": [
    {
      "cell_type": "markdown",
      "metadata": {
        "id": "view-in-github",
        "colab_type": "text"
      },
      "source": [
        "<a href=\"https://colab.research.google.com/github/ElisaGrajales/CDClase1/blob/master/Copia_de_Untitled9.ipynb\" target=\"_parent\"><img src=\"https://colab.research.google.com/assets/colab-badge.svg\" alt=\"Open In Colab\"/></a>"
      ]
    },
    {
      "cell_type": "code",
      "metadata": {
        "id": "4hZ4Cm9FUwmZ",
        "colab_type": "code",
        "colab": {}
      },
      "source": [
        "## importa la librería\n",
        "import pandas as pd\n",
        "import numpy as np\n",
        "pd.set_option('display.notebook_repr_html', False)"
      ],
      "execution_count": 0,
      "outputs": []
    },
    {
      "cell_type": "code",
      "metadata": {
        "id": "Ihkr2eoYUrkS",
        "colab_type": "code",
        "colab": {}
      },
      "source": [
        "truck_events = pd.read_csv(\n",
        "    \"https://raw.githubusercontent.com/jdvelasq/datalabs/master/datasets/drivers/truck_event_text_partition.csv\",\n",
        "    sep = ',',         # separador de campos\n",
        "    thousands = None,  # separador de miles para números\n",
        "    decimal = '.')     # separador de los decimales para números"
      ],
      "execution_count": 0,
      "outputs": []
    },
    {
      "cell_type": "code",
      "metadata": {
        "id": "oROIPKQhU4W0",
        "colab_type": "code",
        "outputId": "f6e24050-cd6f-4b7e-f1bb-a5ef52dba84f",
        "colab": {
          "base_uri": "https://localhost:8080/",
          "height": 34
        }
      },
      "source": [
        "\n",
        "len(truck_events)"
      ],
      "execution_count": 0,
      "outputs": [
        {
          "output_type": "execute_result",
          "data": {
            "text/plain": [
              "17075"
            ]
          },
          "metadata": {
            "tags": []
          },
          "execution_count": 4
        }
      ]
    },
    {
      "cell_type": "code",
      "metadata": {
        "id": "sIuJBOBJU9Ic",
        "colab_type": "code",
        "outputId": "0451d70b-8075-49fa-9044-bfefd644aefe",
        "colab": {
          "base_uri": "https://localhost:8080/",
          "height": 85
        }
      },
      "source": [
        "truck_events.columns"
      ],
      "execution_count": 0,
      "outputs": [
        {
          "output_type": "execute_result",
          "data": {
            "text/plain": [
              "Index(['driverId', 'truckId', 'eventTime', 'eventType', 'longitude',\n",
              "       'latitude', 'eventKey', 'CorrelationId', 'driverName', 'routeId',\n",
              "       'routeName', 'eventDate'],\n",
              "      dtype='object')"
            ]
          },
          "metadata": {
            "tags": []
          },
          "execution_count": 5
        }
      ]
    },
    {
      "cell_type": "code",
      "metadata": {
        "id": "Xubos8RQVBux",
        "colab_type": "code",
        "outputId": "85e7348a-0302-4d1e-88fd-a3e0cfb4879c",
        "colab": {
          "base_uri": "https://localhost:8080/",
          "height": 204
        }
      },
      "source": [
        "truck_events.describe()"
      ],
      "execution_count": 0,
      "outputs": [
        {
          "output_type": "execute_result",
          "data": {
            "text/plain": [
              "           driverId       truckId  ...  CorrelationId       routeId\n",
              "count  17075.000000  17075.000000  ...   1.707500e+04  1.707500e+04\n",
              "mean      21.043104     55.424480  ...   5.373716e+17  1.034766e+09\n",
              "std        6.612549     28.936049  ...   1.295419e+18  6.233880e+08\n",
              "min       10.000000     10.000000  ...   1.000000e+03  2.492948e+07\n",
              "25%       15.000000     27.000000  ...   1.000000e+03  3.711828e+08\n",
              "50%       21.000000     55.000000  ...   1.000000e+03  1.198243e+09\n",
              "75%       27.000000     81.000000  ...   1.000000e+03  1.565885e+09\n",
              "max       32.000000    109.000000  ...   3.660000e+18  1.962262e+09\n",
              "\n",
              "[8 rows x 6 columns]"
            ]
          },
          "metadata": {
            "tags": []
          },
          "execution_count": 6
        }
      ]
    },
    {
      "cell_type": "code",
      "metadata": {
        "id": "7J-54XKGVGyp",
        "colab_type": "code",
        "outputId": "8970de1b-068c-407a-eb9d-6102604ffde5",
        "colab": {
          "base_uri": "https://localhost:8080/",
          "height": 238
        }
      },
      "source": [
        "truck_events.head(10)"
      ],
      "execution_count": 0,
      "outputs": [
        {
          "output_type": "execute_result",
          "data": {
            "text/plain": [
              "   driverId  truckId  ...                               routeName      eventDate\n",
              "0        14       25  ...           Joplin to Kansas City Route 2  2016-05-27-22\n",
              "1        18       16  ...           Springfield to KC Via Hanibal  2016-05-27-22\n",
              "2        27      105  ...  Springfield to KC Via Columbia Route 2  2016-05-27-22\n",
              "3        11       74  ...           Saint Louis to Memphis Route2  2016-05-27-22\n",
              "4        22       87  ...           Saint Louis to Chicago Route2  2016-05-27-22\n",
              "5        22       87  ...           Saint Louis to Chicago Route2  2016-05-27-22\n",
              "6        23       68  ...           Joplin to Kansas City Route 2  2016-05-27-22\n",
              "7        11       74  ...           Saint Louis to Memphis Route2  2016-05-27-22\n",
              "8        20       41  ...           Des Moines to Chicago Route 2  2016-05-27-22\n",
              "9        32       42  ...          Peoria to Ceder Rapids Route 2  2016-05-27-22\n",
              "\n",
              "[10 rows x 12 columns]"
            ]
          },
          "metadata": {
            "tags": []
          },
          "execution_count": 7
        }
      ]
    },
    {
      "cell_type": "code",
      "metadata": {
        "id": "eHckx9o6VQNs",
        "colab_type": "code",
        "outputId": "ceddc334-dffd-47c1-8ae0-a15f3b1abe46",
        "colab": {
          "base_uri": "https://localhost:8080/",
          "height": 238
        }
      },
      "source": [
        "truck_events_subset = truck_events[0:10]\n",
        "truck_events_subset"
      ],
      "execution_count": 0,
      "outputs": [
        {
          "output_type": "execute_result",
          "data": {
            "text/plain": [
              "   driverId  truckId  ...                               routeName      eventDate\n",
              "0        14       25  ...           Joplin to Kansas City Route 2  2016-05-27-22\n",
              "1        18       16  ...           Springfield to KC Via Hanibal  2016-05-27-22\n",
              "2        27      105  ...  Springfield to KC Via Columbia Route 2  2016-05-27-22\n",
              "3        11       74  ...           Saint Louis to Memphis Route2  2016-05-27-22\n",
              "4        22       87  ...           Saint Louis to Chicago Route2  2016-05-27-22\n",
              "5        22       87  ...           Saint Louis to Chicago Route2  2016-05-27-22\n",
              "6        23       68  ...           Joplin to Kansas City Route 2  2016-05-27-22\n",
              "7        11       74  ...           Saint Louis to Memphis Route2  2016-05-27-22\n",
              "8        20       41  ...           Des Moines to Chicago Route 2  2016-05-27-22\n",
              "9        32       42  ...          Peoria to Ceder Rapids Route 2  2016-05-27-22\n",
              "\n",
              "[10 rows x 12 columns]"
            ]
          },
          "metadata": {
            "tags": []
          },
          "execution_count": 8
        }
      ]
    },
    {
      "cell_type": "code",
      "metadata": {
        "id": "J36b6xalVj04",
        "colab_type": "code",
        "outputId": "370fea1a-0a6f-4a9f-d360-1b0eb88c5482",
        "colab": {
          "base_uri": "https://localhost:8080/",
          "height": 204
        }
      },
      "source": [
        "specific_columns = truck_events_subset[['driverId', 'eventTime', 'eventType']]\n",
        "specific_columns"
      ],
      "execution_count": 0,
      "outputs": [
        {
          "output_type": "execute_result",
          "data": {
            "text/plain": [
              "   driverId eventTime eventType\n",
              "0        14   59:21.4    Normal\n",
              "1        18   59:21.7    Normal\n",
              "2        27   59:21.7    Normal\n",
              "3        11   59:21.7    Normal\n",
              "4        22   59:21.7    Normal\n",
              "5        22   59:22.3    Normal\n",
              "6        23   59:22.4    Normal\n",
              "7        11   59:22.5    Normal\n",
              "8        20   59:22.5    Normal\n",
              "9        32   59:22.5    Normal"
            ]
          },
          "metadata": {
            "tags": []
          },
          "execution_count": 9
        }
      ]
    },
    {
      "cell_type": "code",
      "metadata": {
        "id": "V2cKj-8sVuBO",
        "colab_type": "code",
        "outputId": "cc1b41fe-c733-45fb-dce2-795b68f558b1",
        "colab": {
          "base_uri": "https://localhost:8080/",
          "height": 221
        }
      },
      "source": [
        "\n",
        "new_sub_set = truck_events.loc[0:10, ['driverId', 'eventTime', 'eventType']]\n",
        "new_sub_set"
      ],
      "execution_count": 0,
      "outputs": [
        {
          "output_type": "execute_result",
          "data": {
            "text/plain": [
              "    driverId eventTime eventType\n",
              "0         14   59:21.4    Normal\n",
              "1         18   59:21.7    Normal\n",
              "2         27   59:21.7    Normal\n",
              "3         11   59:21.7    Normal\n",
              "4         22   59:21.7    Normal\n",
              "5         22   59:22.3    Normal\n",
              "6         23   59:22.4    Normal\n",
              "7         11   59:22.5    Normal\n",
              "8         20   59:22.5    Normal\n",
              "9         32   59:22.5    Normal\n",
              "10        27   59:22.6    Normal"
            ]
          },
          "metadata": {
            "tags": []
          },
          "execution_count": 10
        }
      ]
    },
    {
      "cell_type": "code",
      "metadata": {
        "id": "QVWL3JiAV0ON",
        "colab_type": "code",
        "outputId": "a93ee1a7-98c6-4cb9-c2ee-d73e69008bae",
        "colab": {
          "base_uri": "https://localhost:8080/",
          "height": 238
        }
      },
      "source": [
        "truck_events.iloc[1]"
      ],
      "execution_count": 0,
      "outputs": [
        {
          "output_type": "execute_result",
          "data": {
            "text/plain": [
              "driverId                                    18\n",
              "truckId                                     16\n",
              "eventTime                              59:21.7\n",
              "eventType                               Normal\n",
              "longitude                               -89.66\n",
              "latitude                                 39.78\n",
              "eventKey             18|16|9223370572464814089\n",
              "CorrelationId                         3.66e+18\n",
              "driverName                           Grant Liu\n",
              "routeId                             1565885487\n",
              "routeName        Springfield to KC Via Hanibal\n",
              "eventDate                        2016-05-27-22\n",
              "Name: 1, dtype: object"
            ]
          },
          "metadata": {
            "tags": []
          },
          "execution_count": 11
        }
      ]
    },
    {
      "cell_type": "code",
      "metadata": {
        "id": "myeeRHdsYJzc",
        "colab_type": "code",
        "outputId": "3c672ab6-65af-4d12-b637-c6d773ea81f7",
        "colab": {
          "base_uri": "https://localhost:8080/",
          "height": 34
        }
      },
      "source": [
        "truck_events.iloc[1]['eventKey']"
      ],
      "execution_count": 0,
      "outputs": [
        {
          "output_type": "execute_result",
          "data": {
            "text/plain": [
              "'18|16|9223370572464814089'"
            ]
          },
          "metadata": {
            "tags": []
          },
          "execution_count": 12
        }
      ]
    },
    {
      "cell_type": "code",
      "metadata": {
        "id": "jxAIXUr-YUVu",
        "colab_type": "code",
        "colab": {}
      },
      "source": [
        "!mkdir -p tmp"
      ],
      "execution_count": 0,
      "outputs": []
    },
    {
      "cell_type": "code",
      "metadata": {
        "id": "uQ4_31f6Yclu",
        "colab_type": "code",
        "colab": {}
      },
      "source": [
        "specific_columns.to_csv(\n",
        "    'tmp/specific-columns.csv',\n",
        "    sep = ',',\n",
        "    header = True,\n",
        "    index = False)"
      ],
      "execution_count": 0,
      "outputs": []
    },
    {
      "cell_type": "code",
      "metadata": {
        "id": "ZbF7OpmfYm9w",
        "colab_type": "code",
        "outputId": "1ff89dd5-ac4a-4dee-84f9-33ad79c9a8c9",
        "colab": {
          "base_uri": "https://localhost:8080/",
          "height": 34
        }
      },
      "source": [
        "!ls tmp/"
      ],
      "execution_count": 0,
      "outputs": [
        {
          "output_type": "stream",
          "text": [
            "specific-columns.csv\n"
          ],
          "name": "stdout"
        }
      ]
    },
    {
      "cell_type": "code",
      "metadata": {
        "id": "tVfgpqLpYrwK",
        "colab_type": "code",
        "outputId": "4d3fbbcf-7e11-48a9-8ad5-f43432e994f2",
        "colab": {
          "base_uri": "https://localhost:8080/",
          "height": 204
        }
      },
      "source": [
        "!cat tmp/specific-columns.csv"
      ],
      "execution_count": 0,
      "outputs": [
        {
          "output_type": "stream",
          "text": [
            "driverId,eventTime,eventType\n",
            "14,59:21.4,Normal\n",
            "18,59:21.7,Normal\n",
            "27,59:21.7,Normal\n",
            "11,59:21.7,Normal\n",
            "22,59:21.7,Normal\n",
            "22,59:22.3,Normal\n",
            "23,59:22.4,Normal\n",
            "11,59:22.5,Normal\n",
            "20,59:22.5,Normal\n",
            "32,59:22.5,Normal\n"
          ],
          "name": "stdout"
        }
      ]
    }
  ]
}