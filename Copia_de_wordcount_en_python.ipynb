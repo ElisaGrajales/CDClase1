{
  "nbformat": 4,
  "nbformat_minor": 0,
  "metadata": {
    "kernelspec": {
      "display_name": "Python 3",
      "language": "python",
      "name": "python3"
    },
    "language_info": {
      "codemirror_mode": {
        "name": "ipython",
        "version": 3
      },
      "file_extension": ".py",
      "mimetype": "text/x-python",
      "name": "python",
      "nbconvert_exporter": "python",
      "pygments_lexer": "ipython3",
      "version": "3.6.8"
    },
    "colab": {
      "name": "Copia de wordcount-en-python.ipynb",
      "provenance": [],
      "toc_visible": true,
      "include_colab_link": true
    }
  },
  "cells": [
    {
      "cell_type": "markdown",
      "metadata": {
        "id": "view-in-github",
        "colab_type": "text"
      },
      "source": [
        "<a href=\"https://colab.research.google.com/github/ElisaGrajales/CDClase1/blob/master/Copia_de_wordcount_en_python.ipynb\" target=\"_parent\"><img src=\"https://colab.research.google.com/assets/colab-badge.svg\" alt=\"Open In Colab\"/></a>"
      ]
    },
    {
      "cell_type": "markdown",
      "metadata": {
        "id": "HZrBiEsVAE2H",
        "colab_type": "text"
      },
      "source": [
        "<a href=\"https://colab.research.google.com/github/jdvelasq/datalabs/blob/master/notebooks/wordcount-en-python.ipynb\" target=\"_parent\"><img src=\"https://colab.research.google.com/assets/colab-badge.svg\" alt=\"Open In Colab\"/></a>"
      ]
    },
    {
      "cell_type": "code",
      "metadata": {
        "id": "HClXxsQTSSfW",
        "colab_type": "code",
        "colab": {}
      },
      "source": [
        ""
      ],
      "execution_count": 0,
      "outputs": []
    },
    {
      "cell_type": "markdown",
      "metadata": {
        "id": "jykd7jYYAE2K",
        "colab_type": "text"
      },
      "source": [
        "Conteo de palabras\n",
        "====\n",
        "\n",
        "* (60 min) "
      ]
    },
    {
      "cell_type": "markdown",
      "metadata": {
        "id": "FXgIQe-CAE2L",
        "colab_type": "text"
      },
      "source": [
        "Escriba un programa en Python que realice el conteo de palabras para **todos los archivos** almacenados en la carpeta `wordcount/`."
      ]
    },
    {
      "cell_type": "markdown",
      "metadata": {
        "id": "2YDu6yTVAE2M",
        "colab_type": "text"
      },
      "source": [
        "## Preparación de datos"
      ]
    },
    {
      "cell_type": "markdown",
      "metadata": {
        "id": "fqx2PJVDAE2N",
        "colab_type": "text"
      },
      "source": [
        "A continuación se genera un directorio con varios archivos de texto para probar el programa."
      ]
    },
    {
      "cell_type": "code",
      "metadata": {
        "id": "n31Wr_b8AE2P",
        "colab_type": "code",
        "colab": {}
      },
      "source": [
        "## \n",
        "## Se crea el directorio wordcount en la carpeta actual de trabajo\n",
        "## y se escriben tres archivos en ella.\n",
        "##\n",
        "!mkdir -p wordcount/"
      ],
      "execution_count": 0,
      "outputs": []
    },
    {
      "cell_type": "code",
      "metadata": {
        "id": "Q0gXJvtoAE2T",
        "colab_type": "code",
        "outputId": "d3ad38b3-fcae-45f2-d3ef-722e244fc13a",
        "colab": {
          "base_uri": "https://localhost:8080/",
          "height": 34
        }
      },
      "source": [
        "%%writefile wordcount/text0.txt\n",
        "Analytics is the discovery, interpretation, and communication of meaningful patterns \n",
        "in data. Especially valuable in areas rich with recorded information, analytics relies \n",
        "on the simultaneous application of statistics, computer programming and operations research \n",
        "to quantify performance.\n",
        "\n",
        "Organizations may apply analytics to business data to describe, predict, and improve business \n",
        "performance. Specifically, areas within analytics include predictive analytics, prescriptive \n",
        "analytics, enterprise decision management, descriptive analytics, cognitive analytics, Big \n",
        "Data Analytics, retail analytics, store assortment and stock-keeping unit optimization, \n",
        "marketing optimization and marketing mix modeling, web analytics, call analytics, speech \n",
        "analytics, sales force sizing and optimization, price and promotion modeling, predictive \n",
        "science, credit risk analysis, and fraud analytics. Since analytics can require extensive \n",
        "computation (see big data), the algorithms and software used for analytics harness the most \n",
        "current methods in computer science, statistics, and mathematics."
      ],
      "execution_count": 0,
      "outputs": [
        {
          "output_type": "stream",
          "text": [
            "Writing wordcount/text0.txt\n"
          ],
          "name": "stdout"
        }
      ]
    },
    {
      "cell_type": "code",
      "metadata": {
        "id": "TS3onoZuAE2X",
        "colab_type": "code",
        "outputId": "d0778723-0a85-4896-872f-2b3ba90c0e6e",
        "colab": {
          "base_uri": "https://localhost:8080/",
          "height": 34
        }
      },
      "source": [
        "%%writefile wordcount/text1.txt\n",
        "The field of data analysis. Analytics often involves studying past historical data to \n",
        "research potential trends, to analyze the effects of certain decisions or events, or to \n",
        "evaluate the performance of a given tool or scenario. The goal of analytics is to improve \n",
        "the business by gaining knowledge which can be used to make improvements or changes."
      ],
      "execution_count": 6,
      "outputs": [
        {
          "output_type": "stream",
          "text": [
            "Writing wordcount/text1.txt\n"
          ],
          "name": "stdout"
        }
      ]
    },
    {
      "cell_type": "code",
      "metadata": {
        "id": "HYl-NShlAE2c",
        "colab_type": "code",
        "outputId": "d731ab0b-3ba6-4576-8e6b-3927a443cf88",
        "colab": {
          "base_uri": "https://localhost:8080/",
          "height": 34
        }
      },
      "source": [
        "%%writefile wordcount/text2.txt\n",
        "Data analytics (DA) is the process of examining data sets in order to draw conclusions \n",
        "about the information they contain, increasingly with the aid of specialized systems \n",
        "and software. Data analytics technologies and techniques are widely used in commercial \n",
        "industries to enable organizations to make more-informed business decisions and by \n",
        "scientists and researchers to verify or disprove scientific models, theories and \n",
        "hypotheses."
      ],
      "execution_count": 0,
      "outputs": [
        {
          "output_type": "stream",
          "text": [
            "Writing wordcount/text2.txt\n"
          ],
          "name": "stdout"
        }
      ]
    },
    {
      "cell_type": "code",
      "metadata": {
        "id": "t7yse3D2Dyc0",
        "colab_type": "code",
        "colab": {}
      },
      "source": [
        "import glob\n",
        "Prueba=glob.glob('wordcount/*.txt') #lea los archivos del directorio\n",
        "\n",
        "for file in Prueba:\n",
        "  open(file, 'r').read()"
      ],
      "execution_count": 0,
      "outputs": []
    },
    {
      "cell_type": "code",
      "metadata": {
        "id": "2WGY19CgGccT",
        "colab_type": "code",
        "outputId": "a860e1f3-c558-4bbe-ea44-d7718316c4c2",
        "colab": {
          "base_uri": "https://localhost:8080/",
          "height": 54
        }
      },
      "source": [
        "filenames=glob.glob('wordcount/*.txt')\n",
        "texto=''\n",
        "for filename in filenames: \n",
        "  texto+=''+open(filename,'r').read()\n",
        "  \n",
        "texto=texto.replace('.','')\n",
        "texto=texto.replace(',','')\n",
        "texto=texto.replace(';','')\n",
        "texto=texto.replace('(','')\n",
        "texto=texto.replace(')','')\n",
        "texto=texto.lower()\n",
        "texto=texto.split()\n",
        "\n",
        "resultado=[]\n",
        "for word in set(texto):\n",
        "  resultado.append((word,texto.count(word)))\n",
        "print (sorted(resultado))"
      ],
      "execution_count": 0,
      "outputs": [
        {
          "output_type": "stream",
          "text": [
            "[('a', 1), ('about', 1), ('aid', 1), ('algorithms', 1), ('analysis', 2), ('analytics', 19), ('analyze', 1), ('and', 15), ('application', 1), ('apply', 1), ('are', 1), ('areas', 2), ('assortment', 1), ('be', 1), ('big', 2), ('business', 4), ('by', 2), ('call', 1), ('can', 2), ('certain', 1), ('changesdata', 1), ('cognitive', 1), ('commercial', 1), ('communication', 1), ('computation', 1), ('computer', 2), ('conclusions', 1), ('contain', 1), ('credit', 1), ('current', 1), ('da', 1), ('data', 8), ('decision', 1), ('decisions', 2), ('describe', 1), ('descriptive', 1), ('discovery', 1), ('disprove', 1), ('draw', 1), ('effects', 1), ('enable', 1), ('enterprise', 1), ('especially', 1), ('evaluate', 1), ('events', 1), ('examining', 1), ('extensive', 1), ('field', 1), ('for', 1), ('force', 1), ('fraud', 1), ('gaining', 1), ('given', 1), ('goal', 1), ('harness', 1), ('historical', 1), ('hypothesesanalytics', 1), ('improve', 2), ('improvements', 1), ('in', 5), ('include', 1), ('increasingly', 1), ('industries', 1), ('information', 2), ('interpretation', 1), ('involves', 1), ('is', 3), ('knowledge', 1), ('make', 2), ('management', 1), ('marketing', 2), ('mathematics', 1), ('may', 1), ('meaningful', 1), ('methods', 1), ('mix', 1), ('modeling', 2), ('models', 1), ('more-informed', 1), ('most', 1), ('of', 8), ('often', 1), ('on', 1), ('operations', 1), ('optimization', 3), ('or', 5), ('order', 1), ('organizations', 2), ('past', 1), ('patterns', 1), ('performance', 3), ('potential', 1), ('predict', 1), ('predictive', 2), ('prescriptive', 1), ('price', 1), ('process', 1), ('programming', 1), ('promotion', 1), ('quantify', 1), ('recorded', 1), ('relies', 1), ('require', 1), ('research', 2), ('researchers', 1), ('retail', 1), ('rich', 1), ('risk', 1), ('sales', 1), ('scenario', 1), ('science', 2), ('scientific', 1), ('scientists', 1), ('see', 1), ('sets', 1), ('simultaneous', 1), ('since', 1), ('sizing', 1), ('software', 2), ('specialized', 1), ('specifically', 1), ('speech', 1), ('statistics', 2), ('stock-keeping', 1), ('store', 1), ('studying', 1), ('systems', 1), ('techniques', 1), ('technologies', 1), ('the', 12), ('theories', 1), ('they', 1), ('to', 12), ('tool', 1), ('trends', 1), ('unit', 1), ('used', 3), ('valuable', 1), ('verify', 1), ('web', 1), ('which', 1), ('widely', 1), ('with', 2), ('within', 1)]\n"
          ],
          "name": "stdout"
        }
      ]
    },
    {
      "cell_type": "code",
      "metadata": {
        "id": "oLG29pB3AE2f",
        "colab_type": "code",
        "colab": {}
      },
      "source": [
        "import glob\n",
        "import re\n",
        "import string\n",
        "\n",
        "# 1. Lee los nombres de archivos del directorio de \n",
        "#    trabajo\n",
        "filenames = glob.glob('wordcount/*.txt')\n",
        "\n",
        "# 2. lee el contenido de los archivos\n",
        "texto = ''\n",
        "for filename in filenames:\n",
        "    texto += ' ' + open(filename, 'r').read()\n",
        "texto = re.sub('[%s]'%re.escape(string.punctuation),\"\",texto)\n",
        "texto = texto.lower()\n",
        "texto = texto.split()\n",
        "result = [(word, texto.count(word)) for word in set(texto)]\n",
        "\n",
        "\n"
      ],
      "execution_count": 0,
      "outputs": []
    },
    {
      "cell_type": "markdown",
      "metadata": {
        "id": "4Tcu4siDcQZv",
        "colab_type": "text"
      },
      "source": [
        "Actividad.– Algunos sistemas Unix tienen el comando tac (reverso de cat) el cual imprime el contenido de un archivo en inverso, es decir, empezando por la última línea. Implemente esta función en Python."
      ]
    },
    {
      "cell_type": "code",
      "metadata": {
        "id": "k8Ch9VX1biew",
        "colab_type": "code",
        "colab": {
          "base_uri": "https://localhost:8080/",
          "height": 85
        },
        "outputId": "0f1beb8d-876d-4abc-d330-cb6db6f6dc91"
      },
      "source": [
        "inverso=open('wordcount/text1.txt', 'r').readlines()\n",
        "inverso"
      ],
      "execution_count": 24,
      "outputs": [
        {
          "output_type": "execute_result",
          "data": {
            "text/plain": [
              "['The field of data analysis. Analytics often involves studying past historical data to \\n',\n",
              " 'research potential trends, to analyze the effects of certain decisions or events, or to \\n',\n",
              " 'evaluate the performance of a given tool or scenario. The goal of analytics is to improve \\n',\n",
              " 'the business by gaining knowledge which can be used to make improvements or changes.']"
            ]
          },
          "metadata": {
            "tags": []
          },
          "execution_count": 24
        }
      ]
    },
    {
      "cell_type": "code",
      "metadata": {
        "id": "Cdun0lzqk1Ae",
        "colab_type": "code",
        "colab": {
          "base_uri": "https://localhost:8080/",
          "height": 34
        },
        "outputId": "b2e00a59-3697-445c-f2d6-c64012b7425e"
      },
      "source": [
        "%%writefile out.1\n",
        "Date, Year, CustomerID, Value\n",
        "2013-01-12, 2013, 1, 100\n",
        "2014-05-12, 2014, 1, 100\n",
        "2013-02-25, 2013, 2, 200\n",
        "2013-04-04, 2013, 1, 100\n",
        "2013-06-21, 2013, 2, 200\n",
        "2014-05-18, 2014, 1, 100\n",
        "2014-06-23, 2014, 2, 200\n",
        "2013-02-28, 2013, 1, 100\n",
        "2013-08-02, 2013, 1, 100\n"
      ],
      "execution_count": 39,
      "outputs": [
        {
          "output_type": "stream",
          "text": [
            "Overwriting out.1\n"
          ],
          "name": "stdout"
        }
      ]
    },
    {
      "cell_type": "code",
      "metadata": {
        "id": "Ukpmy9n5mb3-",
        "colab_type": "code",
        "colab": {
          "base_uri": "https://localhost:8080/",
          "height": 187
        },
        "outputId": "6af9a80d-cd5b-4d68-c691-1867cb66b4d7"
      },
      "source": [
        "x=open('out.1','r').readlines()\n",
        "x=[z.replace('\\n', '') for z in x]\n",
        "x = [z.split(',') for z in x]\n",
        "[z[0].split('-')[1] for z in x[1:]]\n",
        "x[1:] = [z+[z[0].split('-')[1]] for z in x[1:]]\n",
        "x[0].append('Month')\n",
        "[z[0].split('-')[0] for z in x[1:]]\n",
        "x[1:] =[[z[0]]+[int(z[1])]+z[2:]for z in x[1:]]\n",
        "x"
      ],
      "execution_count": 65,
      "outputs": [
        {
          "output_type": "execute_result",
          "data": {
            "text/plain": [
              "[['Date', ' Year', ' CustomerID', ' Value', 'Month'],\n",
              " ['2013-01-12', 2013, ' 1', ' 100', '01'],\n",
              " ['2014-05-12', 2014, ' 1', ' 100', '05'],\n",
              " ['2013-02-25', 2013, ' 2', ' 200', '02'],\n",
              " ['2013-04-04', 2013, ' 1', ' 100', '04'],\n",
              " ['2013-06-21', 2013, ' 2', ' 200', '06'],\n",
              " ['2014-05-18', 2014, ' 1', ' 100', '05'],\n",
              " ['2014-06-23', 2014, ' 2', ' 200', '06'],\n",
              " ['2013-02-28', 2013, ' 1', ' 100', '02'],\n",
              " ['2013-08-02', 2013, ' 1', ' 100', '08']]"
            ]
          },
          "metadata": {
            "tags": []
          },
          "execution_count": 65
        }
      ]
    },
    {
      "cell_type": "code",
      "metadata": {
        "id": "V-JgNv2Uwbgh",
        "colab_type": "code",
        "colab": {
          "base_uri": "https://localhost:8080/",
          "height": 340
        },
        "outputId": "355bcf99-05a5-42e5-a25f-0ddee908e917"
      },
      "source": [
        "def aplicarfuncion(x,numcol,fun):\n",
        "  if numcol<0:\n",
        "    numcol=len(x[0])+numcol\n",
        "  result=[Z[0:numcol]+[fun(Z[numcol])]+Z[numcol+1:] for Z in x[1:]]\n",
        "  result=[x[0]] + result\n",
        "  return result\n",
        "aplicarfuncion(x,5,float)"
      ],
      "execution_count": 90,
      "outputs": [
        {
          "output_type": "error",
          "ename": "IndexError",
          "evalue": "ignored",
          "traceback": [
            "\u001b[0;31m---------------------------------------------------------------------------\u001b[0m",
            "\u001b[0;31mIndexError\u001b[0m                                Traceback (most recent call last)",
            "\u001b[0;32m<ipython-input-90-db587b629962>\u001b[0m in \u001b[0;36m<module>\u001b[0;34m()\u001b[0m\n\u001b[1;32m      5\u001b[0m   \u001b[0mresult\u001b[0m\u001b[0;34m=\u001b[0m\u001b[0;34m[\u001b[0m\u001b[0mx\u001b[0m\u001b[0;34m[\u001b[0m\u001b[0;36m0\u001b[0m\u001b[0;34m]\u001b[0m\u001b[0;34m]\u001b[0m \u001b[0;34m+\u001b[0m \u001b[0mresult\u001b[0m\u001b[0;34m\u001b[0m\u001b[0;34m\u001b[0m\u001b[0m\n\u001b[1;32m      6\u001b[0m   \u001b[0;32mreturn\u001b[0m \u001b[0mresult\u001b[0m\u001b[0;34m\u001b[0m\u001b[0;34m\u001b[0m\u001b[0m\n\u001b[0;32m----> 7\u001b[0;31m \u001b[0maplicarfuncion\u001b[0m\u001b[0;34m(\u001b[0m\u001b[0mx\u001b[0m\u001b[0;34m,\u001b[0m\u001b[0;36m5\u001b[0m\u001b[0;34m,\u001b[0m\u001b[0mfloat\u001b[0m\u001b[0;34m)\u001b[0m\u001b[0;34m\u001b[0m\u001b[0;34m\u001b[0m\u001b[0m\n\u001b[0m",
            "\u001b[0;32m<ipython-input-90-db587b629962>\u001b[0m in \u001b[0;36maplicarfuncion\u001b[0;34m(x, numcol, fun)\u001b[0m\n\u001b[1;32m      2\u001b[0m   \u001b[0;32mif\u001b[0m \u001b[0mnumcol\u001b[0m\u001b[0;34m<\u001b[0m\u001b[0;36m0\u001b[0m\u001b[0;34m:\u001b[0m\u001b[0;34m\u001b[0m\u001b[0;34m\u001b[0m\u001b[0m\n\u001b[1;32m      3\u001b[0m     \u001b[0mnumcol\u001b[0m\u001b[0;34m=\u001b[0m\u001b[0mlen\u001b[0m\u001b[0;34m(\u001b[0m\u001b[0mx\u001b[0m\u001b[0;34m[\u001b[0m\u001b[0;36m0\u001b[0m\u001b[0;34m]\u001b[0m\u001b[0;34m)\u001b[0m\u001b[0;34m+\u001b[0m\u001b[0mnumcol\u001b[0m\u001b[0;34m\u001b[0m\u001b[0;34m\u001b[0m\u001b[0m\n\u001b[0;32m----> 4\u001b[0;31m   \u001b[0mresult\u001b[0m\u001b[0;34m=\u001b[0m\u001b[0;34m[\u001b[0m\u001b[0mZ\u001b[0m\u001b[0;34m[\u001b[0m\u001b[0;36m0\u001b[0m\u001b[0;34m:\u001b[0m\u001b[0mnumcol\u001b[0m\u001b[0;34m]\u001b[0m\u001b[0;34m+\u001b[0m\u001b[0;34m[\u001b[0m\u001b[0mfun\u001b[0m\u001b[0;34m(\u001b[0m\u001b[0mZ\u001b[0m\u001b[0;34m[\u001b[0m\u001b[0mnumcol\u001b[0m\u001b[0;34m]\u001b[0m\u001b[0;34m)\u001b[0m\u001b[0;34m]\u001b[0m\u001b[0;34m+\u001b[0m\u001b[0mZ\u001b[0m\u001b[0;34m[\u001b[0m\u001b[0mnumcol\u001b[0m\u001b[0;34m+\u001b[0m\u001b[0;36m1\u001b[0m\u001b[0;34m:\u001b[0m\u001b[0;34m]\u001b[0m \u001b[0;32mfor\u001b[0m \u001b[0mZ\u001b[0m \u001b[0;32min\u001b[0m \u001b[0mx\u001b[0m\u001b[0;34m[\u001b[0m\u001b[0;36m1\u001b[0m\u001b[0;34m:\u001b[0m\u001b[0;34m]\u001b[0m\u001b[0;34m]\u001b[0m\u001b[0;34m\u001b[0m\u001b[0;34m\u001b[0m\u001b[0m\n\u001b[0m\u001b[1;32m      5\u001b[0m   \u001b[0mresult\u001b[0m\u001b[0;34m=\u001b[0m\u001b[0;34m[\u001b[0m\u001b[0mx\u001b[0m\u001b[0;34m[\u001b[0m\u001b[0;36m0\u001b[0m\u001b[0;34m]\u001b[0m\u001b[0;34m]\u001b[0m \u001b[0;34m+\u001b[0m \u001b[0mresult\u001b[0m\u001b[0;34m\u001b[0m\u001b[0;34m\u001b[0m\u001b[0m\n\u001b[1;32m      6\u001b[0m   \u001b[0;32mreturn\u001b[0m \u001b[0mresult\u001b[0m\u001b[0;34m\u001b[0m\u001b[0;34m\u001b[0m\u001b[0m\n",
            "\u001b[0;32m<ipython-input-90-db587b629962>\u001b[0m in \u001b[0;36m<listcomp>\u001b[0;34m(.0)\u001b[0m\n\u001b[1;32m      2\u001b[0m   \u001b[0;32mif\u001b[0m \u001b[0mnumcol\u001b[0m\u001b[0;34m<\u001b[0m\u001b[0;36m0\u001b[0m\u001b[0;34m:\u001b[0m\u001b[0;34m\u001b[0m\u001b[0;34m\u001b[0m\u001b[0m\n\u001b[1;32m      3\u001b[0m     \u001b[0mnumcol\u001b[0m\u001b[0;34m=\u001b[0m\u001b[0mlen\u001b[0m\u001b[0;34m(\u001b[0m\u001b[0mx\u001b[0m\u001b[0;34m[\u001b[0m\u001b[0;36m0\u001b[0m\u001b[0;34m]\u001b[0m\u001b[0;34m)\u001b[0m\u001b[0;34m+\u001b[0m\u001b[0mnumcol\u001b[0m\u001b[0;34m\u001b[0m\u001b[0;34m\u001b[0m\u001b[0m\n\u001b[0;32m----> 4\u001b[0;31m   \u001b[0mresult\u001b[0m\u001b[0;34m=\u001b[0m\u001b[0;34m[\u001b[0m\u001b[0mZ\u001b[0m\u001b[0;34m[\u001b[0m\u001b[0;36m0\u001b[0m\u001b[0;34m:\u001b[0m\u001b[0mnumcol\u001b[0m\u001b[0;34m]\u001b[0m\u001b[0;34m+\u001b[0m\u001b[0;34m[\u001b[0m\u001b[0mfun\u001b[0m\u001b[0;34m(\u001b[0m\u001b[0mZ\u001b[0m\u001b[0;34m[\u001b[0m\u001b[0mnumcol\u001b[0m\u001b[0;34m]\u001b[0m\u001b[0;34m)\u001b[0m\u001b[0;34m]\u001b[0m\u001b[0;34m+\u001b[0m\u001b[0mZ\u001b[0m\u001b[0;34m[\u001b[0m\u001b[0mnumcol\u001b[0m\u001b[0;34m+\u001b[0m\u001b[0;36m1\u001b[0m\u001b[0;34m:\u001b[0m\u001b[0;34m]\u001b[0m \u001b[0;32mfor\u001b[0m \u001b[0mZ\u001b[0m \u001b[0;32min\u001b[0m \u001b[0mx\u001b[0m\u001b[0;34m[\u001b[0m\u001b[0;36m1\u001b[0m\u001b[0;34m:\u001b[0m\u001b[0;34m]\u001b[0m\u001b[0;34m]\u001b[0m\u001b[0;34m\u001b[0m\u001b[0;34m\u001b[0m\u001b[0m\n\u001b[0m\u001b[1;32m      5\u001b[0m   \u001b[0mresult\u001b[0m\u001b[0;34m=\u001b[0m\u001b[0;34m[\u001b[0m\u001b[0mx\u001b[0m\u001b[0;34m[\u001b[0m\u001b[0;36m0\u001b[0m\u001b[0;34m]\u001b[0m\u001b[0;34m]\u001b[0m \u001b[0;34m+\u001b[0m \u001b[0mresult\u001b[0m\u001b[0;34m\u001b[0m\u001b[0;34m\u001b[0m\u001b[0m\n\u001b[1;32m      6\u001b[0m   \u001b[0;32mreturn\u001b[0m \u001b[0mresult\u001b[0m\u001b[0;34m\u001b[0m\u001b[0;34m\u001b[0m\u001b[0m\n",
            "\u001b[0;31mIndexError\u001b[0m: list index out of range"
          ]
        }
      ]
    }
  ]
}