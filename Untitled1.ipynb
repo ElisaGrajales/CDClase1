{
  "nbformat": 4,
  "nbformat_minor": 0,
  "metadata": {
    "colab": {
      "name": "Untitled1.ipynb",
      "provenance": [],
      "include_colab_link": true
    },
    "kernelspec": {
      "name": "python3",
      "display_name": "Python 3"
    }
  },
  "cells": [
    {
      "cell_type": "markdown",
      "metadata": {
        "id": "view-in-github",
        "colab_type": "text"
      },
      "source": [
        "<a href=\"https://colab.research.google.com/github/ElisaGrajales/CDClase1/blob/master/Untitled1.ipynb\" target=\"_parent\"><img src=\"https://colab.research.google.com/assets/colab-badge.svg\" alt=\"Open In Colab\"/></a>"
      ]
    },
    {
      "cell_type": "code",
      "metadata": {
        "id": "fJgM33j44wNX",
        "colab_type": "code",
        "colab": {
          "base_uri": "https://localhost:8080/",
          "height": 119
        },
        "outputId": "d13776f0-6e4d-4417-f40b-4f5b7509c4f8"
      },
      "source": [
        "txt = '''R is a programming language and software environment for statistical computing\n",
        "and graphics supported by the R Foundation for Statistical Computing.[3] The R language\n",
        "is widely used among statisticians and data miners for developing statistical software[4]\n",
        "and data analysis.[5] Polls, surveys of data miners, and studies of scholarly literature\n",
        "databases show that R's popularity has increased substantially in recent years.[6]\n",
        "'''\n",
        "print (txt)\n",
        "\n"
      ],
      "execution_count": 9,
      "outputs": [
        {
          "output_type": "stream",
          "text": [
            "R is a programming language and software environment for statistical computing\n",
            "and graphics supported by the R Foundation for Statistical Computing.[3] The R language\n",
            "is widely used among statisticians and data miners for developing statistical software[4]\n",
            "and data analysis.[5] Polls, surveys of data miners, and studies of scholarly literature\n",
            "databases show that R's popularity has increased substantially in recent years.[6]\n",
            "\n"
          ],
          "name": "stdout"
        }
      ]
    },
    {
      "cell_type": "code",
      "metadata": {
        "id": "A09mA-Z76F2L",
        "colab_type": "code",
        "colab": {}
      },
      "source": [
        "f = open('out.1','w')\n",
        "\n",
        "print(\"linea 4\", file=f)\n",
        "print (\"línea 5\", file=f)\n",
        "print (\"línea 6\", file=f)"
      ],
      "execution_count": 0,
      "outputs": []
    },
    {
      "cell_type": "code",
      "metadata": {
        "id": "XTR06Czh6MH8",
        "colab_type": "code",
        "colab": {
          "base_uri": "https://localhost:8080/",
          "height": 34
        },
        "outputId": "2e8daac9-93f2-4d00-b00a-5b512b0e4738"
      },
      "source": [
        "f.write('linea 7')"
      ],
      "execution_count": 14,
      "outputs": [
        {
          "output_type": "execute_result",
          "data": {
            "text/plain": [
              "7"
            ]
          },
          "metadata": {
            "tags": []
          },
          "execution_count": 14
        }
      ]
    },
    {
      "cell_type": "code",
      "metadata": {
        "id": "gsB1YFN87aC9",
        "colab_type": "code",
        "colab": {
          "base_uri": "https://localhost:8080/",
          "height": 136
        },
        "outputId": "5be6e348-5aa5-4a18-d826-091ac6d96d1b"
      },
      "source": [
        "f= open('out.1','r')\n",
        "for linea in f:\n",
        "  print(linea)\n",
        "f.close()"
      ],
      "execution_count": 19,
      "outputs": [
        {
          "output_type": "stream",
          "text": [
            "linea 4\n",
            "\n",
            "línea 5\n",
            "\n",
            "línea 6\n",
            "\n",
            "linealinean7linea 7\n"
          ],
          "name": "stdout"
        }
      ]
    },
    {
      "cell_type": "code",
      "metadata": {
        "id": "8qqypJtM8wLI",
        "colab_type": "code",
        "colab": {}
      },
      "source": [
        "import csv"
      ],
      "execution_count": 0,
      "outputs": []
    },
    {
      "cell_type": "code",
      "metadata": {
        "id": "ZyNvceAP8-OS",
        "colab_type": "code",
        "colab": {
          "base_uri": "https://localhost:8080/",
          "height": 129
        },
        "outputId": "ee4f3e42-3aa1-4890-f5b5-6d45ceee7e13"
      },
      "source": [
        "mkdir -p files\n",
        "\n"
      ],
      "execution_count": 22,
      "outputs": [
        {
          "output_type": "error",
          "ename": "SyntaxError",
          "evalue": "ignored",
          "traceback": [
            "\u001b[0;36m  File \u001b[0;32m\"<ipython-input-22-146e93222ace>\"\u001b[0;36m, line \u001b[0;32m1\u001b[0m\n\u001b[0;31m    mkdir -p files\u001b[0m\n\u001b[0m                 ^\u001b[0m\n\u001b[0;31mSyntaxError\u001b[0m\u001b[0;31m:\u001b[0m invalid syntax\n"
          ]
        }
      ]
    },
    {
      "cell_type": "code",
      "metadata": {
        "id": "J6_gIjcd-XNT",
        "colab_type": "code",
        "colab": {
          "base_uri": "https://localhost:8080/",
          "height": 231
        },
        "outputId": "1ee75439-5c47-4769-922c-17836f4fdebb"
      },
      "source": [
        "with open ('files/data.txt', 'w') as f:\n",
        "  x=csv.writer(f,\n",
        "              delimiter = '',\n",
        "              quoting=csv.QUOTE_NONNUMERIC)\n",
        "  for r in df:\n",
        "    x.writerow(r)\n",
        "    "
      ],
      "execution_count": 27,
      "outputs": [
        {
          "output_type": "error",
          "ename": "TypeError",
          "evalue": "ignored",
          "traceback": [
            "\u001b[0;31m---------------------------------------------------------------------------\u001b[0m",
            "\u001b[0;31mTypeError\u001b[0m                                 Traceback (most recent call last)",
            "\u001b[0;32m<ipython-input-27-1d415b0eb733>\u001b[0m in \u001b[0;36m<module>\u001b[0;34m()\u001b[0m\n\u001b[1;32m      2\u001b[0m   x=csv.writer(f,\n\u001b[1;32m      3\u001b[0m               \u001b[0mdelimiter\u001b[0m\u001b[0;34m=\u001b[0m\u001b[0;34m''\u001b[0m\u001b[0;34m,\u001b[0m\u001b[0;34m\u001b[0m\u001b[0;34m\u001b[0m\u001b[0m\n\u001b[0;32m----> 4\u001b[0;31m               quoting=csv.QUOTE_NONNUMERIC)\n\u001b[0m\u001b[1;32m      5\u001b[0m   \u001b[0;32mfor\u001b[0m \u001b[0mr\u001b[0m \u001b[0;32min\u001b[0m \u001b[0mdf\u001b[0m\u001b[0;34m:\u001b[0m\u001b[0;34m\u001b[0m\u001b[0;34m\u001b[0m\u001b[0m\n\u001b[1;32m      6\u001b[0m     \u001b[0mx\u001b[0m\u001b[0;34m.\u001b[0m\u001b[0mwriterow\u001b[0m\u001b[0;34m(\u001b[0m\u001b[0mr\u001b[0m\u001b[0;34m)\u001b[0m\u001b[0;34m\u001b[0m\u001b[0;34m\u001b[0m\u001b[0m\n",
            "\u001b[0;31mTypeError\u001b[0m: \"delimiter\" must be a 1-character string"
          ]
        }
      ]
    }
  ]
}