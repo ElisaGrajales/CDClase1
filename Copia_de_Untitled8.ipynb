{
  "nbformat": 4,
  "nbformat_minor": 0,
  "metadata": {
    "colab": {
      "name": "Copia de Untitled8.ipynb",
      "provenance": [],
      "include_colab_link": true
    },
    "kernelspec": {
      "name": "python3",
      "display_name": "Python 3"
    }
  },
  "cells": [
    {
      "cell_type": "markdown",
      "metadata": {
        "id": "view-in-github",
        "colab_type": "text"
      },
      "source": [
        "<a href=\"https://colab.research.google.com/github/ElisaGrajales/CDClase1/blob/master/Copia_de_Untitled8.ipynb\" target=\"_parent\"><img src=\"https://colab.research.google.com/assets/colab-badge.svg\" alt=\"Open In Colab\"/></a>"
      ]
    },
    {
      "cell_type": "code",
      "metadata": {
        "id": "Rs9Xt4kETrfj",
        "colab_type": "code",
        "colab": {}
      },
      "source": [
        "import pandas as pd\n",
        "import numpy as np\n",
        "pd.set_option('display.notebook_repr_html', False)"
      ],
      "execution_count": 0,
      "outputs": []
    },
    {
      "cell_type": "code",
      "metadata": {
        "id": "6zVBvGLMT7_K",
        "colab_type": "code",
        "outputId": "f90ef481-fbe6-41c5-b2a9-34cd1a88e45b",
        "colab": {
          "base_uri": "https://localhost:8080/",
          "height": 34
        }
      },
      "source": [
        "!ls -1 files/drivers/*"
      ],
      "execution_count": 0,
      "outputs": [
        {
          "output_type": "stream",
          "text": [
            "ls: cannot access 'files/drivers/*': No such file or directory\n"
          ],
          "name": "stdout"
        }
      ]
    },
    {
      "cell_type": "code",
      "metadata": {
        "id": "ypa37YImUDaB",
        "colab_type": "code",
        "outputId": "29a4833c-10ca-450f-914c-5c0e27b2460b",
        "colab": {
          "base_uri": "https://localhost:8080/",
          "height": 34
        }
      },
      "source": [
        "!head files/drivers/drivers.csv"
      ],
      "execution_count": 0,
      "outputs": [
        {
          "output_type": "stream",
          "text": [
            "head: cannot open 'files/drivers/drivers.csv' for reading: No such file or directory\n"
          ],
          "name": "stdout"
        }
      ]
    },
    {
      "cell_type": "code",
      "metadata": {
        "id": "ZBwoKWxOTQeS",
        "colab_type": "code",
        "colab": {}
      },
      "source": [
        "timesheet = pd.read_csv(\n",
        "    \"https://raw.githubusercontent.com/jdvelasq/playground/master/datasets/drivers/timesheet.csv\",\n",
        "    sep = ',',         # separador de campos\n",
        "    thousands = None,  # separador de miles para números\n",
        "    decimal = '.')     # separador de los decimales para números"
      ],
      "execution_count": 0,
      "outputs": []
    },
    {
      "cell_type": "code",
      "metadata": {
        "id": "djx_iwbLURb4",
        "colab_type": "code",
        "outputId": "075e3915-c659-4286-a861-09452b769bfe",
        "colab": {
          "base_uri": "https://localhost:8080/",
          "height": 204
        }
      },
      "source": [
        "timesheet.head(10)"
      ],
      "execution_count": 0,
      "outputs": [
        {
          "output_type": "execute_result",
          "data": {
            "text/plain": [
              "   driverId  week  hours-logged  miles-logged\n",
              "0        10     1            70          3300\n",
              "1        10     2            70          3300\n",
              "2        10     3            60          2800\n",
              "3        10     4            70          3100\n",
              "4        10     5            70          3200\n",
              "5        10     6            70          3300\n",
              "6        10     7            70          3000\n",
              "7        10     8            70          3300\n",
              "8        10     9            70          3200\n",
              "9        10    10            50          2500"
            ]
          },
          "metadata": {
            "tags": []
          },
          "execution_count": 14
        }
      ]
    },
    {
      "cell_type": "code",
      "metadata": {
        "id": "Y5toj8CUZhlE",
        "colab_type": "code",
        "colab": {}
      },
      "source": [
        "timesheet = pd.read_csv(\n",
        "    \"https://raw.githubusercontent.com/jdvelasq/playground/master/datasets/drivers/timesheet.csv\",\n",
        "    sep = ',',         # separador de campos\n",
        "    thousands = None,  # separador de miles para números\n",
        "    decimal = '.')     # separador de los decimales para números"
      ],
      "execution_count": 0,
      "outputs": []
    },
    {
      "cell_type": "code",
      "metadata": {
        "id": "C2pAj6suZmRb",
        "colab_type": "code",
        "outputId": "94aa431a-39cc-4036-a698-8dd2dafb1919",
        "colab": {
          "base_uri": "https://localhost:8080/",
          "height": 204
        }
      },
      "source": [
        "\n",
        "timesheet.head(10)"
      ],
      "execution_count": 0,
      "outputs": [
        {
          "output_type": "execute_result",
          "data": {
            "text/plain": [
              "   driverId  week  hours-logged  miles-logged\n",
              "0        10     1            70          3300\n",
              "1        10     2            70          3300\n",
              "2        10     3            60          2800\n",
              "3        10     4            70          3100\n",
              "4        10     5            70          3200\n",
              "5        10     6            70          3300\n",
              "6        10     7            70          3000\n",
              "7        10     8            70          3300\n",
              "8        10     9            70          3200\n",
              "9        10    10            50          2500"
            ]
          },
          "metadata": {
            "tags": []
          },
          "execution_count": 16
        }
      ]
    },
    {
      "cell_type": "code",
      "metadata": {
        "id": "ECysPhIxZq5M",
        "colab_type": "code",
        "outputId": "3c74e436-2dad-4820-c5a6-aeb63196bb13",
        "colab": {
          "base_uri": "https://localhost:8080/",
          "height": 119
        }
      },
      "source": [
        "\n",
        "sum_timesheet = (timesheet.groupby('driverId',as_index=False).sum())\n",
        "sum_timesheet.head()"
      ],
      "execution_count": 0,
      "outputs": [
        {
          "output_type": "execute_result",
          "data": {
            "text/plain": [
              "   driverId  week  hours-logged  miles-logged\n",
              "0        10  1378          3232        147150\n",
              "1        11  1378          3642        179300\n",
              "2        12  1378          2639        135962\n",
              "3        13  1378          2727        134126\n",
              "4        14  1378          2781        136624"
            ]
          },
          "metadata": {
            "tags": []
          },
          "execution_count": 21
        }
      ]
    },
    {
      "cell_type": "code",
      "metadata": {
        "id": "7lc95U6YaV5k",
        "colab_type": "code",
        "colab": {}
      },
      "source": [
        "sum_timesheet = (timesheet.groupby('driverId',set_index=False).sum())\n",
        "sum_timesheet.head()"
      ],
      "execution_count": 0,
      "outputs": []
    },
    {
      "cell_type": "code",
      "metadata": {
        "id": "AU7qlcj8cd3_",
        "colab_type": "code",
        "colab": {}
      },
      "source": [
        "sum_timesheet=(timesheet.groupby('driverId').sum()) [['hours-logged', 'miles-logged']]"
      ],
      "execution_count": 0,
      "outputs": []
    },
    {
      "cell_type": "code",
      "metadata": {
        "id": "6AjgmMOhe9p6",
        "colab_type": "code",
        "outputId": "9b1c3960-1f5c-4a03-e80b-825becaf5401",
        "colab": {
          "base_uri": "https://localhost:8080/",
          "height": 136
        }
      },
      "source": [
        "\n",
        "sum_timesheet['driverId'] = sum_timesheet.index.tolist()\n",
        "sum_timesheet.head()"
      ],
      "execution_count": 0,
      "outputs": [
        {
          "output_type": "execute_result",
          "data": {
            "text/plain": [
              "          hours-logged  miles-logged  driverId\n",
              "driverId                                      \n",
              "10                3232        147150        10\n",
              "11                3642        179300        11\n",
              "12                2639        135962        12\n",
              "13                2727        134126        13\n",
              "14                2781        136624        14"
            ]
          },
          "metadata": {
            "tags": []
          },
          "execution_count": 30
        }
      ]
    },
    {
      "cell_type": "code",
      "metadata": {
        "id": "u0VajoOdhEfj",
        "colab_type": "code",
        "colab": {}
      },
      "source": [
        ""
      ],
      "execution_count": 0,
      "outputs": []
    },
    {
      "cell_type": "code",
      "metadata": {
        "id": "wGKwlOtNeyP6",
        "colab_type": "code",
        "outputId": "80e4bb25-c2fa-4881-9725-740b1bca8592",
        "colab": {
          "base_uri": "https://localhost:8080/",
          "height": 180
        }
      },
      "source": [
        "summary = pd.merge(sum_timesheet, drivers[['driverId', 'name']], on='driverId')\n",
        "summary"
      ],
      "execution_count": 0,
      "outputs": [
        {
          "output_type": "error",
          "ename": "NameError",
          "evalue": "ignored",
          "traceback": [
            "\u001b[0;31m---------------------------------------------------------------------------\u001b[0m",
            "\u001b[0;31mNameError\u001b[0m                                 Traceback (most recent call last)",
            "\u001b[0;32m<ipython-input-29-9dc37e200eea>\u001b[0m in \u001b[0;36m<module>\u001b[0;34m()\u001b[0m\n\u001b[0;32m----> 1\u001b[0;31m \u001b[0msummary\u001b[0m \u001b[0;34m=\u001b[0m \u001b[0mpd\u001b[0m\u001b[0;34m.\u001b[0m\u001b[0mmerge\u001b[0m\u001b[0;34m(\u001b[0m\u001b[0msum_timesheet\u001b[0m\u001b[0;34m,\u001b[0m \u001b[0mdrivers\u001b[0m\u001b[0;34m[\u001b[0m\u001b[0;34m[\u001b[0m\u001b[0;34m'driverId'\u001b[0m\u001b[0;34m,\u001b[0m \u001b[0;34m'name'\u001b[0m\u001b[0;34m]\u001b[0m\u001b[0;34m]\u001b[0m\u001b[0;34m,\u001b[0m \u001b[0mon\u001b[0m\u001b[0;34m=\u001b[0m\u001b[0;34m'driverId'\u001b[0m\u001b[0;34m)\u001b[0m\u001b[0;34m\u001b[0m\u001b[0;34m\u001b[0m\u001b[0m\n\u001b[0m\u001b[1;32m      2\u001b[0m \u001b[0msummary\u001b[0m\u001b[0;34m\u001b[0m\u001b[0;34m\u001b[0m\u001b[0m\n",
            "\u001b[0;31mNameError\u001b[0m: name 'drivers' is not defined"
          ]
        }
      ]
    }
  ]
}